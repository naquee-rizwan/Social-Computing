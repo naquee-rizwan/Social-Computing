{
 "cells": [
  {
   "cell_type": "code",
   "execution_count": 1,
   "id": "0684548c",
   "metadata": {},
   "outputs": [
    {
     "name": "stdout",
     "output_type": "stream",
     "text": [
      "\u001b[33mWARNING: Skipping /Users/naquee.rizwan/anaconda3/lib/python3.11/site-packages/torch-2.0.1.dist-info due to invalid metadata entry 'name'\u001b[0m\u001b[33m\n",
      "\u001b[0m\u001b[33mWARNING: Skipping /Users/naquee.rizwan/anaconda3/lib/python3.11/site-packages/torch-2.0.1.dist-info due to invalid metadata entry 'name'\u001b[0m\u001b[33m\n",
      "\u001b[0mCollecting deep-translator\n",
      "  Obtaining dependency information for deep-translator from https://files.pythonhosted.org/packages/38/3f/61a8ef73236dbea83a1a063a8af2f8e1e41a0df64f122233938391d0f175/deep_translator-1.11.4-py3-none-any.whl.metadata\n",
      "  Downloading deep_translator-1.11.4-py3-none-any.whl.metadata (30 kB)\n",
      "Requirement already satisfied: beautifulsoup4<5.0.0,>=4.9.1 in /Users/naquee.rizwan/anaconda3/lib/python3.11/site-packages (from deep-translator) (4.12.2)\n",
      "Requirement already satisfied: requests<3.0.0,>=2.23.0 in /Users/naquee.rizwan/anaconda3/lib/python3.11/site-packages (from deep-translator) (2.31.0)\n",
      "Requirement already satisfied: soupsieve>1.2 in /Users/naquee.rizwan/anaconda3/lib/python3.11/site-packages (from beautifulsoup4<5.0.0,>=4.9.1->deep-translator) (2.4)\n",
      "Requirement already satisfied: charset-normalizer<4,>=2 in /Users/naquee.rizwan/anaconda3/lib/python3.11/site-packages (from requests<3.0.0,>=2.23.0->deep-translator) (2.0.4)\n",
      "Requirement already satisfied: idna<4,>=2.5 in /Users/naquee.rizwan/anaconda3/lib/python3.11/site-packages (from requests<3.0.0,>=2.23.0->deep-translator) (3.4)\n",
      "Requirement already satisfied: urllib3<3,>=1.21.1 in /Users/naquee.rizwan/anaconda3/lib/python3.11/site-packages (from requests<3.0.0,>=2.23.0->deep-translator) (1.26.16)\n",
      "Requirement already satisfied: certifi>=2017.4.17 in /Users/naquee.rizwan/anaconda3/lib/python3.11/site-packages (from requests<3.0.0,>=2.23.0->deep-translator) (2023.7.22)\n",
      "Downloading deep_translator-1.11.4-py3-none-any.whl (42 kB)\n",
      "\u001b[2K   \u001b[90m━━━━━━━━━━━━━━━━━━━━━━━━━━━━━━━━━━━━━━━━\u001b[0m \u001b[32m42.3/42.3 kB\u001b[0m \u001b[31m283.8 kB/s\u001b[0m eta \u001b[36m0:00:00\u001b[0ma \u001b[36m0:00:01\u001b[0m\n",
      "\u001b[?25h\u001b[33mWARNING: Skipping /Users/naquee.rizwan/anaconda3/lib/python3.11/site-packages/torch-2.0.1.dist-info due to invalid metadata entry 'name'\u001b[0m\u001b[33m\n",
      "\u001b[0mInstalling collected packages: deep-translator\n",
      "\u001b[33mWARNING: Skipping /Users/naquee.rizwan/anaconda3/lib/python3.11/site-packages/torch-2.0.1.dist-info due to invalid metadata entry 'name'\u001b[0m\u001b[33m\n",
      "\u001b[0mSuccessfully installed deep-translator-1.11.4\n",
      "\u001b[33mWARNING: Skipping /Users/naquee.rizwan/anaconda3/lib/python3.11/site-packages/torch-2.0.1.dist-info due to invalid metadata entry 'name'\u001b[0m\u001b[33m\n",
      "\u001b[0m"
     ]
    }
   ],
   "source": [
    "! pip install deep-translator"
   ]
  },
  {
   "cell_type": "code",
   "execution_count": null,
   "id": "a9652924",
   "metadata": {
    "scrolled": true
   },
   "outputs": [],
   "source": [
    "import torch\n",
    "import pandas as pd\n",
    "import numpy as np\n",
    "import matplotlib.pyplot as plt\n",
    "import seaborn as sns\n",
    "\n",
    "from sklearn.preprocessing import LabelEncoder\n",
    "from tqdm import tqdm\n",
    "from transformers import (\n",
    "    BertTokenizer,\n",
    "    BertForSequenceClassification,\n",
    "    get_scheduler\n",
    ")\n",
    "from torch.optim import AdamW\n",
    "from torch.utils.data import TensorDataset, DataLoader\n",
    "from sklearn.metrics import confusion_matrix, classification_report\n",
    "from deep_translator import GoogleTranslator"
   ]
  },
  {
   "cell_type": "code",
   "execution_count": 2,
   "id": "064a28ad",
   "metadata": {},
   "outputs": [],
   "source": [
    "google_translator = GoogleTranslator(source='hi', target='en')"
   ]
  },
  {
   "cell_type": "code",
   "execution_count": 3,
   "id": "67b74e6d",
   "metadata": {},
   "outputs": [
    {
     "name": "stderr",
     "output_type": "stream",
     "text": [
      "100%|█████████████████████████████████████████| 720/720 [08:28<00:00,  1.42it/s]\n",
      "100%|█████████████████████████████████████████| 241/241 [02:40<00:00,  1.50it/s]\n"
     ]
    }
   ],
   "source": [
    "# IHQID_1mg_train_path = \"indic-health-demo/Dataset/IHQID-1mg/train.csv\"\n",
    "# IHQID_1mg_test_path = \"indic-health-demo/Dataset/IHQID-1mg/test.csv\"\n",
    "\n",
    "IHQID_WebMD_train_path = \"indic-health-demo/Dataset/IHQID-WebMD/train.csv\"\n",
    "IHQID_WebMD_test_path = \"indic-health-demo/Dataset/IHQID-WebMD/test.csv\"\n",
    "\n",
    "IHQID_train = pd.read_csv(IHQID_WebMD_train_path)[['question_hindi', 'Manual_Intent']]\n",
    "IHQID_test = pd.read_csv(IHQID_WebMD_test_path)[['question_hindi', 'Manual_Intent']]\n",
    "\n",
    "for index in tqdm(range(len(IHQID_train['question_hindi']))):\n",
    "    IHQID_train['question_hindi'][index] = google_translator.translate(IHQID_train['question_hindi'][index])\n",
    "    \n",
    "for index in tqdm(range(len(IHQID_test['question_hindi']))):\n",
    "    IHQID_test['question_hindi'][index] = google_translator.translate(IHQID_test['question_hindi'][index])\n",
    "\n",
    "IHQID_train['Manual_Intent_Encoded'] = IHQID_train['Manual_Intent']\n",
    "IHQID_test['Manual_Intent_Encoded'] = IHQID_test['Manual_Intent']\n",
    "\n",
    "label_encoder = LabelEncoder()\n",
    "label_encoder.fit(IHQID_train['Manual_Intent_Encoded'])\n",
    "\n",
    "IHQID_train['Manual_Intent_Encoded'] = label_encoder.transform(IHQID_train['Manual_Intent_Encoded'])\n",
    "IHQID_test['Manual_Intent_Encoded'] = label_encoder.transform(IHQID_test['Manual_Intent_Encoded'])\n"
   ]
  },
  {
   "cell_type": "code",
   "execution_count": 4,
   "id": "6f91dd97",
   "metadata": {},
   "outputs": [
    {
     "data": {
      "text/html": [
       "<div>\n",
       "<style scoped>\n",
       "    .dataframe tbody tr th:only-of-type {\n",
       "        vertical-align: middle;\n",
       "    }\n",
       "\n",
       "    .dataframe tbody tr th {\n",
       "        vertical-align: top;\n",
       "    }\n",
       "\n",
       "    .dataframe thead th {\n",
       "        text-align: right;\n",
       "    }\n",
       "</style>\n",
       "<table border=\"1\" class=\"dataframe\">\n",
       "  <thead>\n",
       "    <tr style=\"text-align: right;\">\n",
       "      <th></th>\n",
       "      <th>question_hindi</th>\n",
       "      <th>Manual_Intent</th>\n",
       "      <th>Manual_Intent_Encoded</th>\n",
       "    </tr>\n",
       "  </thead>\n",
       "  <tbody>\n",
       "    <tr>\n",
       "      <th>0</th>\n",
       "      <td>What is nystatin prescribed for?</td>\n",
       "      <td>drug</td>\n",
       "      <td>1</td>\n",
       "    </tr>\n",
       "    <tr>\n",
       "      <th>1</th>\n",
       "      <td>Can douching after sex prevent me from getting...</td>\n",
       "      <td>other</td>\n",
       "      <td>2</td>\n",
       "    </tr>\n",
       "    <tr>\n",
       "      <th>2</th>\n",
       "      <td>Does Percocet Cause Weight Gain</td>\n",
       "      <td>drug</td>\n",
       "      <td>1</td>\n",
       "    </tr>\n",
       "    <tr>\n",
       "      <th>3</th>\n",
       "      <td>Does 2 or 2 1/2 glasses of wine a day cause hi...</td>\n",
       "      <td>disease</td>\n",
       "      <td>0</td>\n",
       "    </tr>\n",
       "    <tr>\n",
       "      <th>4</th>\n",
       "      <td>Can too much buttermilk cause thrush?</td>\n",
       "      <td>disease</td>\n",
       "      <td>0</td>\n",
       "    </tr>\n",
       "  </tbody>\n",
       "</table>\n",
       "</div>"
      ],
      "text/plain": [
       "                                      question_hindi Manual_Intent  \\\n",
       "0                   What is nystatin prescribed for?          drug   \n",
       "1  Can douching after sex prevent me from getting...         other   \n",
       "2                    Does Percocet Cause Weight Gain          drug   \n",
       "3  Does 2 or 2 1/2 glasses of wine a day cause hi...       disease   \n",
       "4              Can too much buttermilk cause thrush?       disease   \n",
       "\n",
       "   Manual_Intent_Encoded  \n",
       "0                      1  \n",
       "1                      2  \n",
       "2                      1  \n",
       "3                      0  \n",
       "4                      0  "
      ]
     },
     "execution_count": 4,
     "metadata": {},
     "output_type": "execute_result"
    }
   ],
   "source": [
    "IHQID_train.head()"
   ]
  },
  {
   "cell_type": "code",
   "execution_count": 5,
   "id": "35b979c6",
   "metadata": {},
   "outputs": [
    {
     "data": {
      "text/html": [
       "<div>\n",
       "<style scoped>\n",
       "    .dataframe tbody tr th:only-of-type {\n",
       "        vertical-align: middle;\n",
       "    }\n",
       "\n",
       "    .dataframe tbody tr th {\n",
       "        vertical-align: top;\n",
       "    }\n",
       "\n",
       "    .dataframe thead th {\n",
       "        text-align: right;\n",
       "    }\n",
       "</style>\n",
       "<table border=\"1\" class=\"dataframe\">\n",
       "  <thead>\n",
       "    <tr style=\"text-align: right;\">\n",
       "      <th></th>\n",
       "      <th>question_hindi</th>\n",
       "      <th>Manual_Intent</th>\n",
       "      <th>Manual_Intent_Encoded</th>\n",
       "    </tr>\n",
       "  </thead>\n",
       "  <tbody>\n",
       "    <tr>\n",
       "      <th>715</th>\n",
       "      <td>Would the Affordable Care Act require an insur...</td>\n",
       "      <td>other</td>\n",
       "      <td>2</td>\n",
       "    </tr>\n",
       "    <tr>\n",
       "      <th>716</th>\n",
       "      <td>How can I use duct tape to get rid of warts?</td>\n",
       "      <td>treatment plan</td>\n",
       "      <td>3</td>\n",
       "    </tr>\n",
       "    <tr>\n",
       "      <th>717</th>\n",
       "      <td>What facial exercises can be done to help corr...</td>\n",
       "      <td>treatment plan</td>\n",
       "      <td>3</td>\n",
       "    </tr>\n",
       "    <tr>\n",
       "      <th>718</th>\n",
       "      <td>Is prenatal ultrasound safe?</td>\n",
       "      <td>treatment plan</td>\n",
       "      <td>3</td>\n",
       "    </tr>\n",
       "    <tr>\n",
       "      <th>719</th>\n",
       "      <td>How can I reduce inguinal hernia symptoms unti...</td>\n",
       "      <td>treatment plan</td>\n",
       "      <td>3</td>\n",
       "    </tr>\n",
       "  </tbody>\n",
       "</table>\n",
       "</div>"
      ],
      "text/plain": [
       "                                        question_hindi   Manual_Intent  \\\n",
       "715  Would the Affordable Care Act require an insur...           other   \n",
       "716       How can I use duct tape to get rid of warts?  treatment plan   \n",
       "717  What facial exercises can be done to help corr...  treatment plan   \n",
       "718                       Is prenatal ultrasound safe?  treatment plan   \n",
       "719  How can I reduce inguinal hernia symptoms unti...  treatment plan   \n",
       "\n",
       "     Manual_Intent_Encoded  \n",
       "715                      2  \n",
       "716                      3  \n",
       "717                      3  \n",
       "718                      3  \n",
       "719                      3  "
      ]
     },
     "execution_count": 5,
     "metadata": {},
     "output_type": "execute_result"
    }
   ],
   "source": [
    "IHQID_train.tail()"
   ]
  },
  {
   "cell_type": "code",
   "execution_count": 6,
   "id": "ff714bca",
   "metadata": {},
   "outputs": [
    {
     "data": {
      "text/html": [
       "<div>\n",
       "<style scoped>\n",
       "    .dataframe tbody tr th:only-of-type {\n",
       "        vertical-align: middle;\n",
       "    }\n",
       "\n",
       "    .dataframe tbody tr th {\n",
       "        vertical-align: top;\n",
       "    }\n",
       "\n",
       "    .dataframe thead th {\n",
       "        text-align: right;\n",
       "    }\n",
       "</style>\n",
       "<table border=\"1\" class=\"dataframe\">\n",
       "  <thead>\n",
       "    <tr style=\"text-align: right;\">\n",
       "      <th></th>\n",
       "      <th>question_hindi</th>\n",
       "      <th>Manual_Intent</th>\n",
       "      <th>Manual_Intent_Encoded</th>\n",
       "    </tr>\n",
       "  </thead>\n",
       "  <tbody>\n",
       "    <tr>\n",
       "      <th>0</th>\n",
       "      <td>How common is pregnancy after hysterectomy?</td>\n",
       "      <td>treatment plan</td>\n",
       "      <td>3</td>\n",
       "    </tr>\n",
       "    <tr>\n",
       "      <th>1</th>\n",
       "      <td>How effective is generic thyroid medication?</td>\n",
       "      <td>drug</td>\n",
       "      <td>1</td>\n",
       "    </tr>\n",
       "    <tr>\n",
       "      <th>2</th>\n",
       "      <td>Is Singulair a corticosteroid?</td>\n",
       "      <td>drug</td>\n",
       "      <td>1</td>\n",
       "    </tr>\n",
       "    <tr>\n",
       "      <th>3</th>\n",
       "      <td>Can you take Advil with homeopathic air drops?</td>\n",
       "      <td>drug</td>\n",
       "      <td>1</td>\n",
       "    </tr>\n",
       "    <tr>\n",
       "      <th>4</th>\n",
       "      <td>Is Bell's Palsy contagious?</td>\n",
       "      <td>disease</td>\n",
       "      <td>0</td>\n",
       "    </tr>\n",
       "  </tbody>\n",
       "</table>\n",
       "</div>"
      ],
      "text/plain": [
       "                                   question_hindi   Manual_Intent  \\\n",
       "0     How common is pregnancy after hysterectomy?  treatment plan   \n",
       "1    How effective is generic thyroid medication?            drug   \n",
       "2                  Is Singulair a corticosteroid?            drug   \n",
       "3  Can you take Advil with homeopathic air drops?            drug   \n",
       "4                     Is Bell's Palsy contagious?         disease   \n",
       "\n",
       "   Manual_Intent_Encoded  \n",
       "0                      3  \n",
       "1                      1  \n",
       "2                      1  \n",
       "3                      1  \n",
       "4                      0  "
      ]
     },
     "execution_count": 6,
     "metadata": {},
     "output_type": "execute_result"
    }
   ],
   "source": [
    "IHQID_test.head()"
   ]
  },
  {
   "cell_type": "code",
   "execution_count": 7,
   "id": "ecc045b1",
   "metadata": {},
   "outputs": [
    {
     "data": {
      "text/html": [
       "<div>\n",
       "<style scoped>\n",
       "    .dataframe tbody tr th:only-of-type {\n",
       "        vertical-align: middle;\n",
       "    }\n",
       "\n",
       "    .dataframe tbody tr th {\n",
       "        vertical-align: top;\n",
       "    }\n",
       "\n",
       "    .dataframe thead th {\n",
       "        text-align: right;\n",
       "    }\n",
       "</style>\n",
       "<table border=\"1\" class=\"dataframe\">\n",
       "  <thead>\n",
       "    <tr style=\"text-align: right;\">\n",
       "      <th></th>\n",
       "      <th>question_hindi</th>\n",
       "      <th>Manual_Intent</th>\n",
       "      <th>Manual_Intent_Encoded</th>\n",
       "    </tr>\n",
       "  </thead>\n",
       "  <tbody>\n",
       "    <tr>\n",
       "      <th>236</th>\n",
       "      <td>How will Obamacare affect Medicare recipients?...</td>\n",
       "      <td>other</td>\n",
       "      <td>2</td>\n",
       "    </tr>\n",
       "    <tr>\n",
       "      <th>237</th>\n",
       "      <td>What is the role of MPTP in the study of Parki...</td>\n",
       "      <td>treatment plan</td>\n",
       "      <td>3</td>\n",
       "    </tr>\n",
       "    <tr>\n",
       "      <th>238</th>\n",
       "      <td>Is Botox safe to use for frown lines and wrink...</td>\n",
       "      <td>disease</td>\n",
       "      <td>0</td>\n",
       "    </tr>\n",
       "    <tr>\n",
       "      <th>239</th>\n",
       "      <td>When will I have an ultrasound during pregnancy?</td>\n",
       "      <td>treatment plan</td>\n",
       "      <td>3</td>\n",
       "    </tr>\n",
       "    <tr>\n",
       "      <th>240</th>\n",
       "      <td>Does Nucinta have Tylenol?</td>\n",
       "      <td>drug</td>\n",
       "      <td>1</td>\n",
       "    </tr>\n",
       "  </tbody>\n",
       "</table>\n",
       "</div>"
      ],
      "text/plain": [
       "                                        question_hindi   Manual_Intent  \\\n",
       "236  How will Obamacare affect Medicare recipients?...           other   \n",
       "237  What is the role of MPTP in the study of Parki...  treatment plan   \n",
       "238  Is Botox safe to use for frown lines and wrink...         disease   \n",
       "239   When will I have an ultrasound during pregnancy?  treatment plan   \n",
       "240                         Does Nucinta have Tylenol?            drug   \n",
       "\n",
       "     Manual_Intent_Encoded  \n",
       "236                      2  \n",
       "237                      3  \n",
       "238                      0  \n",
       "239                      3  \n",
       "240                      1  "
      ]
     },
     "execution_count": 7,
     "metadata": {},
     "output_type": "execute_result"
    }
   ],
   "source": [
    "IHQID_test.tail()"
   ]
  },
  {
   "cell_type": "code",
   "execution_count": 8,
   "id": "8e5cb362",
   "metadata": {},
   "outputs": [
    {
     "name": "stdout",
     "output_type": "stream",
     "text": [
      "cuda\n"
     ]
    }
   ],
   "source": [
    "device = 'cuda' if torch.cuda.is_available() else 'cpu'\n",
    "print(device)\n",
    "\n",
    "model_checkpoint = \"emilyalsentzer/Bio_ClinicalBERT\"\n",
    "\n",
    "hyper_parameters = {\n",
    "    'batch_size': 8,\n",
    "    'lr': 3e-5,\n",
    "    'epochs': 10\n",
    "}"
   ]
  },
  {
   "cell_type": "code",
   "execution_count": 9,
   "id": "9cb70950",
   "metadata": {},
   "outputs": [],
   "source": [
    "tokenizer = BertTokenizer.from_pretrained(model_checkpoint)\n",
    "\n",
    "encoded_input_train = tokenizer.batch_encode_plus(\n",
    "    IHQID_train['question_hindi'],\n",
    "    add_special_tokens=True,\n",
    "    padding=True,\n",
    "    return_tensors='pt'\n",
    ")\n",
    "\n",
    "encoded_input_test = tokenizer.batch_encode_plus(\n",
    "    IHQID_test['question_hindi'],\n",
    "    add_special_tokens=True,\n",
    "    padding=True,\n",
    "    return_tensors='pt'\n",
    ")\n",
    "\n",
    "train_dataloader = DataLoader(\n",
    "    TensorDataset(\n",
    "        encoded_input_train['input_ids'].to(device),\n",
    "        encoded_input_train['attention_mask'].to(device),\n",
    "        torch.tensor(IHQID_train['Manual_Intent_Encoded']).to(device)\n",
    "    ),\n",
    "    batch_size=hyper_parameters['batch_size']\n",
    ")\n",
    "\n",
    "test_dataloader = DataLoader(\n",
    "    TensorDataset(\n",
    "        encoded_input_test['input_ids'].to(device),\n",
    "        encoded_input_test['attention_mask'].to(device),\n",
    "        torch.tensor(IHQID_test['Manual_Intent_Encoded']).to(device)\n",
    "    ),\n",
    "    batch_size=hyper_parameters['batch_size']\n",
    ")\n"
   ]
  },
  {
   "cell_type": "code",
   "execution_count": 10,
   "id": "2ad94306",
   "metadata": {},
   "outputs": [
    {
     "name": "stderr",
     "output_type": "stream",
     "text": [
      "Some weights of BertForSequenceClassification were not initialized from the model checkpoint at emilyalsentzer/Bio_ClinicalBERT and are newly initialized: ['classifier.bias', 'classifier.weight']\n",
      "You should probably TRAIN this model on a down-stream task to be able to use it for predictions and inference.\n"
     ]
    }
   ],
   "source": [
    "model = BertForSequenceClassification.from_pretrained(\n",
    "    model_checkpoint,\n",
    "    num_labels=len(label_encoder.classes_)\n",
    ")\n",
    "model.to(device)\n",
    "\n",
    "optimizer = AdamW(\n",
    "    model.parameters(),\n",
    "    lr=hyper_parameters['lr']\n",
    ")\n",
    "\n",
    "lr_scheduler = get_scheduler(\n",
    "  \"linear\",\n",
    "  optimizer=optimizer,\n",
    "  num_warmup_steps=0,\n",
    "  num_training_steps=hyper_parameters['epochs'] * len(train_dataloader)\n",
    ")"
   ]
  },
  {
   "cell_type": "code",
   "execution_count": 11,
   "id": "bb7b0514",
   "metadata": {},
   "outputs": [
    {
     "name": "stderr",
     "output_type": "stream",
     "text": [
      " 10%|████▍                                       | 1/10 [00:08<01:17,  8.63s/it]"
     ]
    },
    {
     "name": "stdout",
     "output_type": "stream",
     "text": [
      "Epoch: 1  - Training Loss: 1.1716\n"
     ]
    },
    {
     "name": "stderr",
     "output_type": "stream",
     "text": [
      " 20%|████████▊                                   | 2/10 [00:16<01:03,  7.99s/it]"
     ]
    },
    {
     "name": "stdout",
     "output_type": "stream",
     "text": [
      "Epoch: 2  - Training Loss: 0.6956\n"
     ]
    },
    {
     "name": "stderr",
     "output_type": "stream",
     "text": [
      " 30%|█████████████▏                              | 3/10 [00:23<00:54,  7.81s/it]"
     ]
    },
    {
     "name": "stdout",
     "output_type": "stream",
     "text": [
      "Epoch: 3  - Training Loss: 0.4067\n"
     ]
    },
    {
     "name": "stderr",
     "output_type": "stream",
     "text": [
      " 40%|█████████████████▌                          | 4/10 [00:31<00:46,  7.76s/it]"
     ]
    },
    {
     "name": "stdout",
     "output_type": "stream",
     "text": [
      "Epoch: 4  - Training Loss: 0.2094\n"
     ]
    },
    {
     "name": "stderr",
     "output_type": "stream",
     "text": [
      " 50%|██████████████████████                      | 5/10 [00:39<00:38,  7.70s/it]"
     ]
    },
    {
     "name": "stdout",
     "output_type": "stream",
     "text": [
      "Epoch: 5  - Training Loss: 0.1108\n"
     ]
    },
    {
     "name": "stderr",
     "output_type": "stream",
     "text": [
      " 60%|██████████████████████████▍                 | 6/10 [00:46<00:30,  7.65s/it]"
     ]
    },
    {
     "name": "stdout",
     "output_type": "stream",
     "text": [
      "Epoch: 6  - Training Loss: 0.0656\n"
     ]
    },
    {
     "name": "stderr",
     "output_type": "stream",
     "text": [
      " 70%|██████████████████████████████▊             | 7/10 [00:53<00:22,  7.50s/it]"
     ]
    },
    {
     "name": "stdout",
     "output_type": "stream",
     "text": [
      "Epoch: 7  - Training Loss: 0.0325\n"
     ]
    },
    {
     "name": "stderr",
     "output_type": "stream",
     "text": [
      " 80%|███████████████████████████████████▏        | 8/10 [01:00<00:14,  7.22s/it]"
     ]
    },
    {
     "name": "stdout",
     "output_type": "stream",
     "text": [
      "Epoch: 8  - Training Loss: 0.0177\n"
     ]
    },
    {
     "name": "stderr",
     "output_type": "stream",
     "text": [
      " 90%|███████████████████████████████████████▌    | 9/10 [01:08<00:07,  7.35s/it]"
     ]
    },
    {
     "name": "stdout",
     "output_type": "stream",
     "text": [
      "Epoch: 9  - Training Loss: 0.0153\n"
     ]
    },
    {
     "name": "stderr",
     "output_type": "stream",
     "text": [
      "100%|███████████████████████████████████████████| 10/10 [01:15<00:00,  7.57s/it]"
     ]
    },
    {
     "name": "stdout",
     "output_type": "stream",
     "text": [
      "Epoch: 10  - Training Loss: 0.01\n"
     ]
    },
    {
     "name": "stderr",
     "output_type": "stream",
     "text": [
      "\n"
     ]
    }
   ],
   "source": [
    "model.train()\n",
    "\n",
    "updater = tqdm(range(hyper_parameters['epochs']))\n",
    "for epoch in updater:\n",
    "    total_train_loss = 0.0\n",
    "    for batch in train_dataloader:\n",
    "        \n",
    "        optimizer.zero_grad()\n",
    "        inputs = {\n",
    "            'input_ids': batch[0],\n",
    "            'attention_mask': batch[1],\n",
    "            'labels': batch[2],\n",
    "        }\n",
    "        \n",
    "        outputs = model(**inputs)\n",
    "        \n",
    "        loss = outputs.loss\n",
    "        loss.backward()\n",
    "        \n",
    "        optimizer.step()\n",
    "        lr_scheduler.step()\n",
    "        \n",
    "        total_train_loss += loss.item()\n",
    "    \n",
    "    print(\"Epoch:\", epoch + 1, \" - Training Loss:\", round(total_train_loss / len(train_dataloader), 4))\n",
    "\n",
    "\n",
    "# Didn't have much time to implement early stopping. So, saving the model at the end of all epochs.\n",
    "torch.save(model.state_dict(), f'ir_dtrans_hi.model')\n"
   ]
  },
  {
   "cell_type": "code",
   "execution_count": 12,
   "id": "42d90610",
   "metadata": {},
   "outputs": [
    {
     "name": "stdout",
     "output_type": "stream",
     "text": [
      "              precision    recall  f1-score   support\n",
      "\n",
      "           0       0.84      0.76      0.80        76\n",
      "           1       0.79      0.85      0.82        53\n",
      "           2       0.76      0.73      0.74        73\n",
      "           3       0.64      0.74      0.69        39\n",
      "\n",
      "    accuracy                           0.77       241\n",
      "   macro avg       0.76      0.77      0.76       241\n",
      "weighted avg       0.77      0.77      0.77       241\n",
      "\n"
     ]
    }
   ],
   "source": [
    "model.eval()\n",
    "\n",
    "prediction = []\n",
    "gold_label = []\n",
    "\n",
    "for batch in test_dataloader:\n",
    "\n",
    "    inputs = {\n",
    "        'input_ids': batch[0],\n",
    "        'attention_mask': batch[1],\n",
    "        'labels': batch[2],\n",
    "    }\n",
    "\n",
    "    with torch.no_grad():\n",
    "        outputs = model(**inputs)\n",
    "\n",
    "    gold_label_cpu = inputs['labels'].cpu().numpy()\n",
    "    logits_vector = outputs.logits.detach().cpu().numpy()\n",
    "\n",
    "    assert(len(gold_label_cpu) == len(logits_vector))\n",
    "\n",
    "    for index in range(len(logits_vector)):\n",
    "        prediction.append(logits_vector[index].argmax(axis=0))\n",
    "        gold_label.append(gold_label_cpu[index])\n",
    "\n",
    "print(classification_report(gold_label, prediction))\n"
   ]
  },
  {
   "cell_type": "code",
   "execution_count": 13,
   "id": "4e665258",
   "metadata": {
    "scrolled": true
   },
   "outputs": [
    {
     "data": {
      "image/png": "[encoded data removed]",
      "text/plain": [
       "<Figure size 640x480 with 2 Axes>"
      ]
     },
     "metadata": {},
     "output_type": "display_data"
    }
   ],
   "source": [
    "# Compute the confusion matrix\n",
    "cm = confusion_matrix(gold_label, prediction)\n",
    "\n",
    "# Plot the confusion matrix.\n",
    "sns.heatmap(\n",
    "    cm,\n",
    "    annot=True,\n",
    "    fmt='g',\n",
    "    xticklabels=['disease', 'drug', 'other', 'treatment'],\n",
    "    yticklabels=['disease', 'drug', 'other', 'treatment']\n",
    ")\n",
    "plt.xlabel('Predicted Label', fontsize=10)\n",
    "plt.ylabel('Actual Label', fontsize=10)\n",
    "plt.title('Confusion Matrix', fontsize=20)\n",
    "plt.show()"
   ]
  },
  {
   "cell_type": "code",
   "execution_count": null,
   "id": "9a9d79e9",
   "metadata": {},
   "outputs": [],
   "source": []
  },
  {
   "cell_type": "code",
   "execution_count": null,
   "id": "eee78887",
   "metadata": {},
   "outputs": [],
   "source": []
  }
 ],
 "metadata": {
  "kernelspec": {
   "display_name": "Python 3 (ipykernel)",
   "language": "python",
   "name": "python3"
  },
  "language_info": {
   "codemirror_mode": {
    "name": "ipython",
    "version": 3
   },
   "file_extension": ".py",
   "mimetype": "text/x-python",
   "name": "python",
   "nbconvert_exporter": "python",
   "pygments_lexer": "ipython3",
   "version": "3.11.4"
  }
 },
 "nbformat": 4,
 "nbformat_minor": 5
}
