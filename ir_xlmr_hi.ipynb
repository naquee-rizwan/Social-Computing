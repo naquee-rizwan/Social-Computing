{
 "cells": [
  {
   "cell_type": "code",
   "execution_count": 1,
   "id": "1f39db77",
   "metadata": {
    "scrolled": true
   },
   "outputs": [],
   "source": [
    "import torch\n",
    "import pandas as pd\n",
    "import numpy as np\n",
    "import matplotlib.pyplot as plt\n",
    "import seaborn as sns\n",
    "\n",
    "from sklearn.preprocessing import LabelEncoder\n",
    "from tqdm import tqdm\n",
    "from transformers import (\n",
    "    XLMRobertaTokenizer,\n",
    "    XLMRobertaForSequenceClassification,\n",
    "    get_scheduler\n",
    ")\n",
    "from torch.optim import AdamW\n",
    "from torch.utils.data import TensorDataset, DataLoader\n",
    "from sklearn.metrics import confusion_matrix, classification_report"
   ]
  },
  {
   "cell_type": "code",
   "execution_count": 2,
   "id": "77e03162",
   "metadata": {},
   "outputs": [],
   "source": [
    "# IHQID_1mg_train_path = \"indic-health-demo/Dataset/IHQID-1mg/train.csv\"\n",
    "# IHQID_1mg_test_path = \"indic-health-demo/Dataset/IHQID-1mg/test.csv\"\n",
    "\n",
    "IHQID_WebMD_train_path = \"indic-health-demo/Dataset/IHQID-WebMD/train.csv\"\n",
    "IHQID_WebMD_test_path = \"indic-health-demo/Dataset/IHQID-WebMD/test.csv\"\n",
    "\n",
    "IHQID_train = pd.read_csv(IHQID_WebMD_train_path)[['question_hindi', 'Manual_Intent']]\n",
    "IHQID_test = pd.read_csv(IHQID_WebMD_test_path)[['question_hindi', 'Manual_Intent']]\n",
    "\n",
    "IHQID_train['Manual_Intent_Encoded'] = IHQID_train['Manual_Intent']\n",
    "IHQID_test['Manual_Intent_Encoded'] = IHQID_test['Manual_Intent']\n",
    "\n",
    "label_encoder = LabelEncoder()\n",
    "label_encoder.fit(IHQID_train['Manual_Intent_Encoded'])\n",
    "\n",
    "IHQID_train['Manual_Intent_Encoded'] = label_encoder.transform(IHQID_train['Manual_Intent_Encoded'])\n",
    "IHQID_test['Manual_Intent_Encoded'] = label_encoder.transform(IHQID_test['Manual_Intent_Encoded'])\n"
   ]
  },
  {
   "cell_type": "code",
   "execution_count": 3,
   "id": "48aecec7",
   "metadata": {},
   "outputs": [
    {
     "name": "stdout",
     "output_type": "stream",
     "text": [
      "cpu\n"
     ]
    }
   ],
   "source": [
    "device = 'cuda' if torch.cuda.is_available() else 'cpu'\n",
    "\n",
    "# Forcefully using cpu as model was not fitting in gpu\n",
    "device = 'cpu'\n",
    "print(device)\n",
    "\n",
    "model_checkpoint = \"xlm-roberta-base\"\n",
    "\n",
    "hyper_parameters = {\n",
    "    'batch_size': 8,\n",
    "    'lr': 3e-5,\n",
    "    'epochs': 10\n",
    "}"
   ]
  },
  {
   "cell_type": "code",
   "execution_count": 4,
   "id": "d97bab8e",
   "metadata": {},
   "outputs": [],
   "source": [
    "tokenizer = XLMRobertaTokenizer.from_pretrained(model_checkpoint)\n",
    "\n",
    "encoded_input_train = tokenizer.batch_encode_plus(\n",
    "    IHQID_train['question_hindi'],\n",
    "    add_special_tokens=True,\n",
    "    truncation=True,\n",
    "    padding='max_length',\n",
    "    return_tensors='pt'\n",
    ")\n",
    "\n",
    "encoded_input_test = tokenizer.batch_encode_plus(\n",
    "    IHQID_test['question_hindi'],\n",
    "    add_special_tokens=True,\n",
    "    truncation=True,\n",
    "    padding='max_length',\n",
    "    return_tensors='pt'\n",
    ")\n",
    "\n",
    "train_dataloader = DataLoader(\n",
    "    TensorDataset(\n",
    "        encoded_input_train['input_ids'].to(device),\n",
    "        encoded_input_train['attention_mask'].to(device),\n",
    "        torch.tensor(IHQID_train['Manual_Intent_Encoded']).to(device)\n",
    "    ),\n",
    "    batch_size=hyper_parameters['batch_size']\n",
    ")\n",
    "\n",
    "test_dataloader = DataLoader(\n",
    "    TensorDataset(\n",
    "        encoded_input_test['input_ids'].to(device),\n",
    "        encoded_input_test['attention_mask'].to(device),\n",
    "        torch.tensor(IHQID_test['Manual_Intent_Encoded']).to(device)\n",
    "    ),\n",
    "    batch_size=hyper_parameters['batch_size']\n",
    ")\n"
   ]
  },
  {
   "cell_type": "code",
   "execution_count": 5,
   "id": "d6359969",
   "metadata": {},
   "outputs": [
    {
     "name": "stderr",
     "output_type": "stream",
     "text": [
      "Some weights of XLMRobertaForSequenceClassification were not initialized from the model checkpoint at xlm-roberta-base and are newly initialized: ['classifier.dense.bias', 'classifier.out_proj.weight', 'classifier.dense.weight', 'classifier.out_proj.bias']\n",
      "You should probably TRAIN this model on a down-stream task to be able to use it for predictions and inference.\n"
     ]
    }
   ],
   "source": [
    "model = XLMRobertaForSequenceClassification.from_pretrained(\n",
    "    model_checkpoint,\n",
    "    num_labels=len(label_encoder.classes_)\n",
    ")\n",
    "model.to(device)\n",
    "\n",
    "optimizer = AdamW(\n",
    "    model.parameters(),\n",
    "    lr=hyper_parameters['lr']\n",
    ")\n",
    "\n",
    "lr_scheduler = get_scheduler(\n",
    "  \"linear\",\n",
    "  optimizer=optimizer,\n",
    "  num_warmup_steps=0,\n",
    "  num_training_steps=hyper_parameters['epochs'] * len(train_dataloader)\n",
    ")"
   ]
  },
  {
   "cell_type": "code",
   "execution_count": 6,
   "id": "d42a8e1b",
   "metadata": {},
   "outputs": [
    {
     "name": "stderr",
     "output_type": "stream",
     "text": [
      " 10%|████▎                                      | 1/10 [04:47<43:10, 287.84s/it]"
     ]
    },
    {
     "name": "stdout",
     "output_type": "stream",
     "text": [
      "Epoch: 1  - Training Loss: 1.3841\n"
     ]
    },
    {
     "name": "stderr",
     "output_type": "stream",
     "text": [
      " 20%|████████▌                                  | 2/10 [09:43<38:59, 292.44s/it]"
     ]
    },
    {
     "name": "stdout",
     "output_type": "stream",
     "text": [
      "Epoch: 2  - Training Loss: 1.3809\n"
     ]
    },
    {
     "name": "stderr",
     "output_type": "stream",
     "text": [
      " 30%|████████████▉                              | 3/10 [14:27<33:40, 288.63s/it]"
     ]
    },
    {
     "name": "stdout",
     "output_type": "stream",
     "text": [
      "Epoch: 3  - Training Loss: 1.4069\n"
     ]
    },
    {
     "name": "stderr",
     "output_type": "stream",
     "text": [
      " 40%|█████████████████▏                         | 4/10 [19:16<28:52, 288.67s/it]"
     ]
    },
    {
     "name": "stdout",
     "output_type": "stream",
     "text": [
      "Epoch: 4  - Training Loss: 1.3895\n"
     ]
    },
    {
     "name": "stderr",
     "output_type": "stream",
     "text": [
      " 50%|█████████████████████▌                     | 5/10 [24:02<23:59, 287.81s/it]"
     ]
    },
    {
     "name": "stdout",
     "output_type": "stream",
     "text": [
      "Epoch: 5  - Training Loss: 1.3806\n"
     ]
    },
    {
     "name": "stderr",
     "output_type": "stream",
     "text": [
      " 60%|█████████████████████████▊                 | 6/10 [28:49<19:09, 287.43s/it]"
     ]
    },
    {
     "name": "stdout",
     "output_type": "stream",
     "text": [
      "Epoch: 6  - Training Loss: 1.3629\n"
     ]
    },
    {
     "name": "stderr",
     "output_type": "stream",
     "text": [
      " 70%|██████████████████████████████             | 7/10 [33:35<14:20, 286.96s/it]"
     ]
    },
    {
     "name": "stdout",
     "output_type": "stream",
     "text": [
      "Epoch: 7  - Training Loss: 1.3935\n"
     ]
    },
    {
     "name": "stderr",
     "output_type": "stream",
     "text": [
      " 80%|██████████████████████████████████▍        | 8/10 [38:20<09:33, 286.55s/it]"
     ]
    },
    {
     "name": "stdout",
     "output_type": "stream",
     "text": [
      "Epoch: 8  - Training Loss: 1.3786\n"
     ]
    },
    {
     "name": "stderr",
     "output_type": "stream",
     "text": [
      " 90%|██████████████████████████████████████▋    | 9/10 [43:07<04:46, 286.51s/it]"
     ]
    },
    {
     "name": "stdout",
     "output_type": "stream",
     "text": [
      "Epoch: 9  - Training Loss: 1.3001\n"
     ]
    },
    {
     "name": "stderr",
     "output_type": "stream",
     "text": [
      "100%|██████████████████████████████████████████| 10/10 [48:01<00:00, 288.13s/it]"
     ]
    },
    {
     "name": "stdout",
     "output_type": "stream",
     "text": [
      "Epoch: 10  - Training Loss: 1.2242\n"
     ]
    },
    {
     "name": "stderr",
     "output_type": "stream",
     "text": [
      "\n"
     ]
    }
   ],
   "source": [
    "model.train()\n",
    "\n",
    "updater = tqdm(range(hyper_parameters['epochs']))\n",
    "for epoch in updater:\n",
    "    total_train_loss = 0.0\n",
    "    for batch in train_dataloader:\n",
    "        \n",
    "        optimizer.zero_grad()\n",
    "        inputs = {\n",
    "            'input_ids': batch[0],\n",
    "            'attention_mask': batch[1],\n",
    "            'labels': batch[2],\n",
    "        }\n",
    "        \n",
    "        outputs = model(**inputs)\n",
    "        \n",
    "        loss = outputs.loss\n",
    "        loss.backward()\n",
    "        \n",
    "        optimizer.step()\n",
    "        lr_scheduler.step()\n",
    "        \n",
    "        total_train_loss += loss.item()\n",
    "    \n",
    "    print(\"Epoch:\", epoch + 1, \" - Training Loss:\", round(total_train_loss / len(train_dataloader), 4))\n",
    "\n",
    "\n",
    "# Didn't have much time to implement early stopping. So, saving the model at the end of all epochs.\n",
    "torch.save(model.state_dict(), f'ir_xlmr_hi.model')\n"
   ]
  },
  {
   "cell_type": "code",
   "execution_count": 7,
   "id": "0bbcb90b",
   "metadata": {},
   "outputs": [
    {
     "name": "stdout",
     "output_type": "stream",
     "text": [
      "              precision    recall  f1-score   support\n",
      "\n",
      "           0       0.38      0.47      0.42        76\n",
      "           1       0.58      0.60      0.59        53\n",
      "           2       0.58      0.73      0.64        73\n",
      "           3       0.00      0.00      0.00        39\n",
      "\n",
      "    accuracy                           0.50       241\n",
      "   macro avg       0.39      0.45      0.41       241\n",
      "weighted avg       0.42      0.50      0.46       241\n",
      "\n"
     ]
    },
    {
     "name": "stderr",
     "output_type": "stream",
     "text": [
      "/home/naqueer_am/anaconda3/lib/python3.11/site-packages/sklearn/metrics/_classification.py:1469: UndefinedMetricWarning: Precision and F-score are ill-defined and being set to 0.0 in labels with no predicted samples. Use `zero_division` parameter to control this behavior.\n",
      "  _warn_prf(average, modifier, msg_start, len(result))\n",
      "/home/naqueer_am/anaconda3/lib/python3.11/site-packages/sklearn/metrics/_classification.py:1469: UndefinedMetricWarning: Precision and F-score are ill-defined and being set to 0.0 in labels with no predicted samples. Use `zero_division` parameter to control this behavior.\n",
      "  _warn_prf(average, modifier, msg_start, len(result))\n",
      "/home/naqueer_am/anaconda3/lib/python3.11/site-packages/sklearn/metrics/_classification.py:1469: UndefinedMetricWarning: Precision and F-score are ill-defined and being set to 0.0 in labels with no predicted samples. Use `zero_division` parameter to control this behavior.\n",
      "  _warn_prf(average, modifier, msg_start, len(result))\n"
     ]
    }
   ],
   "source": [
    "model.eval()\n",
    "\n",
    "prediction = []\n",
    "gold_label = []\n",
    "\n",
    "for batch in test_dataloader:\n",
    "\n",
    "    inputs = {\n",
    "        'input_ids': batch[0],\n",
    "        'attention_mask': batch[1],\n",
    "        'labels': batch[2],\n",
    "    }\n",
    "\n",
    "    with torch.no_grad():\n",
    "        outputs = model(**inputs)\n",
    "\n",
    "\n",
    "    gold_label_cpu = inputs['labels'].cpu().numpy()\n",
    "    logits_vector = outputs.logits.detach().cpu().numpy()\n",
    "\n",
    "    assert(len(gold_label_cpu) == len(logits_vector))\n",
    "\n",
    "    for index in range(len(logits_vector)):\n",
    "        prediction.append(logits_vector[index].argmax(axis=0))\n",
    "        gold_label.append(gold_label_cpu[index])\n",
    "\n",
    "print(classification_report(gold_label, prediction))\n"
   ]
  },
  {
   "cell_type": "code",
   "execution_count": 8,
   "id": "e744fa18",
   "metadata": {
    "scrolled": true
   },
   "outputs": [
    {
     "data": {
      "image/png": "[encoded data removed]",
      "text/plain": [
       "<Figure size 640x480 with 2 Axes>"
      ]
     },
     "metadata": {},
     "output_type": "display_data"
    }
   ],
   "source": [
    "# Compute the confusion matrix\n",
    "cm = confusion_matrix(gold_label, prediction)\n",
    "\n",
    "# Plot the confusion matrix.\n",
    "sns.heatmap(\n",
    "    cm,\n",
    "    annot=True,\n",
    "    fmt='g',\n",
    "    xticklabels=['disease', 'drug', 'other', 'treatment'],\n",
    "    yticklabels=['disease', 'drug', 'other', 'treatment']\n",
    ")\n",
    "plt.xlabel('Predicted Label', fontsize=10)\n",
    "plt.ylabel('Actual Label', fontsize=10)\n",
    "plt.title('Confusion Matrix', fontsize=20)\n",
    "plt.show()"
   ]
  },
  {
   "cell_type": "code",
   "execution_count": null,
   "id": "d7278f60",
   "metadata": {},
   "outputs": [],
   "source": []
  }
 ],
 "metadata": {
  "kernelspec": {
   "display_name": "Python 3 (ipykernel)",
   "language": "python",
   "name": "python3"
  },
  "language_info": {
   "codemirror_mode": {
    "name": "ipython",
    "version": 3
   },
   "file_extension": ".py",
   "mimetype": "text/x-python",
   "name": "python",
   "nbconvert_exporter": "python",
   "pygments_lexer": "ipython3",
   "version": "3.11.4"
  }
 },
 "nbformat": 4,
 "nbformat_minor": 5
}
